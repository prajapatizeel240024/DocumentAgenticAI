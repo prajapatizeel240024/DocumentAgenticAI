{
 "cells": [
  {
   "cell_type": "markdown",
   "metadata": {},
   "source": [
    "\n",
    "# 0 env loading (for GROQ_API_KEY, etc.)"
   ]
  },
  {
   "cell_type": "code",
   "execution_count": 22,
   "metadata": {},
   "outputs": [],
   "source": [
    "import os\n",
    "from dotenv import load_dotenv\n",
    "\n",
    "load_dotenv()  # Load environment variables, including GROQ_API_KEY\n",
    "\n",
    "os.environ['JAVA_HOME'] = r\"C:\\Program Files\\Java\\jdk-21\""
   ]
  },
  {
   "cell_type": "markdown",
   "metadata": {},
   "source": [
    "# 1. Imports"
   ]
  },
  {
   "cell_type": "code",
   "execution_count": 23,
   "metadata": {},
   "outputs": [],
   "source": [
    "import jpype\n",
    "import tabula\n",
    "import base64\n",
    "import pymupdf\n",
    "import logging\n",
    "import warnings\n",
    "import numpy as np\n",
    "from tqdm import tqdm\n",
    "from botocore.exceptions import ClientError\n",
    "\n",
    "# Summarization w/ GROQ\n",
    "from langchain_groq import ChatGroq\n",
    "from langchain_core.prompts import ChatPromptTemplate\n",
    "from langchain_core.output_parsers import StrOutputParser\n",
    "\n",
    "# Summarization w/ GPT-4o (OpenAI style)\n",
    "from langchain_openai import ChatOpenAI\n",
    "from langchain_core.prompts import ChatPromptTemplate\n",
    "from langchain_core.output_parsers import StrOutputParser\n",
    "\n",
    "# For VectorStore & RAG\n",
    "import uuid\n",
    "from base64 import b64decode\n",
    "from langchain_chroma import Chroma  # Updated import\n",
    "from langchain_openai import OpenAIEmbeddings  # Updated import\n",
    "from langchain.storage import InMemoryStore\n",
    "from langchain.schema.document import Document\n",
    "from langchain.retrievers.multi_vector import MultiVectorRetriever\n",
    "from langchain_core.runnables import RunnablePassthrough, RunnableLambda\n",
    "from langchain_core.messages import HumanMessage"
   ]
  },
  {
   "cell_type": "code",
   "execution_count": null,
   "metadata": {},
   "outputs": [],
   "source": [
    "# Start JVM for Tabula if not running\n",
    "jvm_path = r\"C:\\Program Files\\Java\\jdk-21\\bin\\server\\jvm.dll\"\n",
    "if not jpype.isJVMStarted():\n",
    "    jpype.startJVM(jvm_path)\n",
    "\n",
    "if jpype.isJVMStarted():\n",
    "    print(\"JVM loaded successfully!\")\n",
    "else:\n",
    "    print(\"JVM not loaded.\")\n",
    "\n",
    "logger = logging.getLogger(__name__)\n",
    "logger.setLevel(logging.ERROR)\n",
    "warnings.filterwarnings(\"ignore\")"
   ]
  },
  {
   "cell_type": "markdown",
   "metadata": {},
   "source": [
    "# 2. PDF Partitioning"
   ]
  },
  {
   "cell_type": "code",
   "execution_count": null,
   "metadata": {},
   "outputs": [],
   "source": [
    "base_dir = \"data\"\n",
    "os.makedirs(base_dir, exist_ok=True)\n",
    "\n",
    "filename = \"attention.pdf\"\n",
    "filepath = os.path.join(base_dir, filename)\n",
    "print(\"PDF Path:\", filepath)\n",
    "\n",
    "def create_directories(base_dir):\n",
    "    directories = [\"images\", \"text\", \"tables\", \"page_images\"]\n",
    "    for d in directories:\n",
    "        os.makedirs(os.path.join(base_dir, d), exist_ok=True)\n",
    "\n",
    "create_directories(base_dir)"
   ]
  },
  {
   "cell_type": "code",
   "execution_count": 26,
   "metadata": {},
   "outputs": [],
   "source": [
    "def process_tables(doc, page_num, base_dir, items):\n",
    "    \"\"\"Extract tables with Tabula and save them as .txt files.\"\"\"\n",
    "    try:\n",
    "        tables = tabula.read_pdf(filepath, pages=page_num + 1, multiple_tables=True)\n",
    "        if not tables:\n",
    "            return\n",
    "        for table_idx, table in enumerate(tables):\n",
    "            table_text = \"\\n\".join([\" | \".join(map(str, row)) for row in table.values])\n",
    "            table_file_name = f\"{base_dir}/tables/{os.path.basename(filepath)}_table_{page_num}_{table_idx}.txt\"\n",
    "            with open(table_file_name, 'w', encoding='utf-8') as f:\n",
    "                f.write(table_text)\n",
    "            items.append({\"page\": page_num, \"type\": \"table\", \"text\": table_text, \"path\": table_file_name})\n",
    "    except Exception as e:\n",
    "        print(f\"Error extracting tables from page {page_num}: {str(e)}\")"
   ]
  },
  {
   "cell_type": "code",
   "execution_count": 27,
   "metadata": {},
   "outputs": [],
   "source": [
    "class RecursiveCharacterTextSplitter:\n",
    "    \"\"\"A simple text splitter that chunks text by character length.\"\"\"\n",
    "    def __init__(self, chunk_size=700, chunk_overlap=200, length_function=len):\n",
    "        self.chunk_size = chunk_size\n",
    "        self.chunk_overlap = chunk_overlap\n",
    "        self.length_function = length_function\n",
    "\n",
    "    def split_text(self, text):\n",
    "        chunks = []\n",
    "        start = 0\n",
    "        while start < len(text):\n",
    "            end = start + self.chunk_size\n",
    "            chunk = text[start:end]\n",
    "            chunks.append(chunk)\n",
    "            start += (self.chunk_size - self.chunk_overlap)\n",
    "        return chunks"
   ]
  },
  {
   "cell_type": "code",
   "execution_count": 28,
   "metadata": {},
   "outputs": [],
   "source": [
    "def process_text_chunks(text, text_splitter, page_num, base_dir, items):\n",
    "    chunks = text_splitter.split_text(text)\n",
    "    for i, chunk in enumerate(chunks):\n",
    "        text_file_name = f\"{base_dir}/text/{os.path.basename(filepath)}_text_{page_num}_{i}.txt\"\n",
    "        with open(text_file_name, 'w', encoding='utf-8') as f:\n",
    "            f.write(chunk)\n",
    "        items.append({\"page\": page_num, \"type\": \"text\", \"text\": chunk, \"path\": text_file_name})"
   ]
  },
  {
   "cell_type": "code",
   "execution_count": 29,
   "metadata": {},
   "outputs": [],
   "source": [
    "def process_images(page, page_num, base_dir, items, doc):\n",
    "    \"\"\"Extract embedded images on a PDF page.\"\"\"\n",
    "    images = page.get_images()\n",
    "    for idx, image in enumerate(images):\n",
    "        xref = image[0]\n",
    "        pix = pymupdf.Pixmap(doc, xref)\n",
    "        image_name = f\"{base_dir}/images/{os.path.basename(filepath)}_image_{page_num}_{idx}_{xref}.png\"\n",
    "        pix.save(image_name)\n",
    "        with open(image_name, 'rb') as f:\n",
    "            encoded_image = base64.b64encode(f.read()).decode('utf8')\n",
    "        items.append({\"page\": page_num, \"type\": \"image\", \"path\": image_name, \"image\": encoded_image})"
   ]
  },
  {
   "cell_type": "code",
   "execution_count": 30,
   "metadata": {},
   "outputs": [],
   "source": [
    "def process_page_images(page, page_num, base_dir, items):\n",
    "    \"\"\"Render the entire page as an image and store it.\"\"\"\n",
    "    pix = page.get_pixmap()\n",
    "    page_path = os.path.join(base_dir, f\"page_images/page_{page_num:03d}.png\")\n",
    "    pix.save(page_path)\n",
    "    with open(page_path, 'rb') as f:\n",
    "        page_image = base64.b64encode(f.read()).decode('utf8')\n",
    "    items.append({\"page\": page_num, \"type\": \"page\", \"path\": page_path, \"image\": page_image})"
   ]
  },
  {
   "cell_type": "markdown",
   "metadata": {},
   "source": [
    "# 3. Partition the PDF"
   ]
  },
  {
   "cell_type": "code",
   "execution_count": null,
   "metadata": {},
   "outputs": [],
   "source": [
    "import pymupdf\n",
    "doc = pymupdf.open(filepath)\n",
    "num_pages = len(doc)\n",
    "text_splitter = RecursiveCharacterTextSplitter(chunk_size=700, chunk_overlap=200)\n",
    "items = []\n",
    "\n",
    "print(f\"Total pages: {num_pages}\")\n",
    "\n",
    "for page_num in tqdm(range(num_pages), desc=\"Processing PDF pages\"):\n",
    "    page = doc[page_num]\n",
    "    text = page.get_text()\n",
    "\n",
    "    # Table extraction\n",
    "    process_tables(doc, page_num, base_dir, items)\n",
    "    # Text chunking\n",
    "    process_text_chunks(text, text_splitter, page_num, base_dir, items)\n",
    "    # Images\n",
    "    process_images(page, page_num, base_dir, items, doc)\n",
    "    # Full-page images\n",
    "    process_page_images(page, page_num, base_dir, items)\n",
    "\n",
    "print(\"\\nPartitioning complete!\")\n",
    "text_items = [i for i in items if i['type'] == 'text']\n",
    "table_items = [i for i in items if i['type'] == 'table']\n",
    "image_items = [i for i in items if i['type'] == 'image']\n",
    "\n",
    "if text_items:\n",
    "    print(\"Sample text item:\", text_items[0])\n",
    "if table_items:\n",
    "    print(\"Sample table item:\", table_items[0])\n",
    "if image_items:\n",
    "    print(\"Sample image item:\", image_items[0])"
   ]
  },
  {
   "cell_type": "markdown",
   "metadata": {},
   "source": [
    "# 4. Gather Text & Table Chunks"
   ]
  },
  {
   "cell_type": "code",
   "execution_count": null,
   "metadata": {},
   "outputs": [],
   "source": [
    "text_dir = os.path.join(base_dir, \"text\")\n",
    "table_dir = os.path.join(base_dir, \"tables\")\n",
    "\n",
    "text_files = [f for f in os.listdir(text_dir) if f.endswith(\".txt\")]\n",
    "table_files = [f for f in os.listdir(table_dir) if f.endswith(\".txt\")]\n",
    "\n",
    "text_chunks = []\n",
    "for filename in text_files:\n",
    "    fp = os.path.join(text_dir, filename)\n",
    "    with open(fp, 'r', encoding='utf-8') as f:\n",
    "        content = f.read()\n",
    "    text_chunks.append(content)\n",
    "\n",
    "table_chunks = []\n",
    "for filename in table_files:\n",
    "    fp = os.path.join(table_dir, filename)\n",
    "    with open(fp, 'r', encoding='utf-8') as f:\n",
    "        content = f.read()\n",
    "    table_chunks.append(content)\n",
    "\n",
    "print(f\"\\nNumber of text chunks: {len(text_chunks)}\")\n",
    "print(f\"Number of table chunks: {len(table_chunks)}\")"
   ]
  },
  {
   "cell_type": "markdown",
   "metadata": {},
   "source": [
    "# 5. Summarize Text & Tables (Groq)"
   ]
  },
  {
   "cell_type": "code",
   "execution_count": null,
   "metadata": {},
   "outputs": [],
   "source": [
    "prompt_text = \"\"\"\n",
    "You are an assistant tasked with summarizing tables and text.\n",
    "Give a concise summary of the table or text.\n",
    "\n",
    "Respond only with the summary, no additional comment.\n",
    "Do not start your message by saying \"Here is a summary\" or anything like that.\n",
    "Just give the summary as it is.\n",
    "\n",
    "Table or text chunk: {element}\n",
    "\"\"\"\n",
    "\n",
    "groq_prompt = ChatPromptTemplate.from_template(prompt_text)\n",
    "groq_model = ChatGroq(temperature=0.5, model=\"llama-3.1-8b-instant\")\n",
    "\n",
    "summarize_chain = (\n",
    "    {\"element\": lambda x: x}\n",
    "    | groq_prompt\n",
    "    | groq_model\n",
    "    | StrOutputParser()\n",
    ")\n",
    "\n",
    "text_summaries = summarize_chain.batch(text_chunks, {\"max_concurrency\": 3})\n",
    "table_summaries = summarize_chain.batch(table_chunks, {\"max_concurrency\": 3})\n",
    "\n",
    "print(\"\\n=== EXAMPLE TEXT SUMMARIES ===\")\n",
    "for idx, summary in enumerate(text_summaries[:3]):\n",
    "    print(f\"Text Chunk #{idx+1} SUMMARY:\\n{summary}\\n---\")\n",
    "\n",
    "print(\"\\n=== EXAMPLE TABLE SUMMARIES ===\")\n",
    "for idx, summary in enumerate(table_summaries[:3]):\n",
    "    print(f\"Table Chunk #{idx+1} SUMMARY:\\n{summary}\\n---\")"
   ]
  },
  {
   "cell_type": "markdown",
   "metadata": {},
   "source": [
    "# 6. Summarize Images (GPT-4o)"
   ]
  },
  {
   "cell_type": "code",
   "execution_count": null,
   "metadata": {},
   "outputs": [],
   "source": [
    "img_prompt_template = \"\"\"Describe the image in detail. For context,\n",
    "the image is part of a research paper explaining the transformers architecture.\n",
    "Be specific about graphs, such as bar plots.\"\"\"\n",
    "\n",
    "messages = [\n",
    "    (\n",
    "        \"user\",\n",
    "        [\n",
    "            {\"type\": \"text\", \"text\": img_prompt_template},\n",
    "            {\n",
    "                \"type\": \"image_url\",\n",
    "                \"image_url\": {\"url\": \"data:image/jpeg;base64,{image}\"},\n",
    "            },\n",
    "        ],\n",
    "    )\n",
    "]\n",
    "image_prompt = ChatPromptTemplate.from_messages(messages)\n",
    "\n",
    "image_chain = image_prompt | ChatOpenAI(model=\"gpt-4o\") | StrOutputParser()\n",
    "\n",
    "image_dir = os.path.join(base_dir, \"images\")\n",
    "image_files = [f for f in os.listdir(image_dir) if f.lower().endswith((\".png\", \".jpg\", \".jpeg\"))]\n",
    "\n",
    "images_base64 = []\n",
    "for filename in image_files:\n",
    "    file_path = os.path.join(image_dir, filename)\n",
    "    with open(file_path, 'rb') as f:\n",
    "        content = f.read()\n",
    "    images_base64.append(base64.b64encode(content).decode('utf8'))\n",
    "\n",
    "image_summaries = image_chain.batch(images_base64)\n",
    "if image_summaries:\n",
    "    print(\"\\n=== EXAMPLE IMAGE SUMMARY ===\")\n",
    "    print(image_summaries[0])\n"
   ]
  },
  {
   "cell_type": "markdown",
   "metadata": {},
   "source": [
    "# 7. Vector Store & InMemoryStore Setup"
   ]
  },
  {
   "cell_type": "code",
   "execution_count": 35,
   "metadata": {},
   "outputs": [],
   "source": [
    "import uuid\n",
    "from langchain.vectorstores import Chroma\n",
    "from langchain.storage import InMemoryStore\n",
    "from langchain.schema.document import Document\n",
    "from langchain.embeddings import OpenAIEmbeddings\n",
    "from langchain.retrievers.multi_vector import MultiVectorRetriever\n",
    "\n",
    "# Define source data\n",
    "texts = text_chunks      # From earlier PDF processing\n",
    "tables = table_chunks    # From table extraction\n",
    "images = images_base64   # From image extraction\n",
    "\n",
    "# Make sure we have summaries\n",
    "if not 'text_summaries' in locals():\n",
    "    text_summaries = summarize_chain.batch(texts, {\"max_concurrency\": 3})\n",
    "if not 'table_summaries' in locals():\n",
    "    table_summaries = summarize_chain.batch(tables, {\"max_concurrency\": 3})\n",
    "if not 'image_summaries' in locals():\n",
    "    image_summaries = image_chain.batch(images)\n",
    "\n",
    "vectorstore = Chroma(\n",
    "    collection_name=\"multi_modal_rag\",\n",
    "    embedding_function=OpenAIEmbeddings()\n",
    ")\n",
    "\n",
    "store = InMemoryStore()\n",
    "id_key = \"doc_id\"\n",
    "\n",
    "# The retriever (empty to start)\n",
    "retriever = MultiVectorRetriever(\n",
    "    vectorstore=vectorstore,\n",
    "    docstore=store,\n",
    "    id_key=id_key,\n",
    ")"
   ]
  },
  {
   "cell_type": "markdown",
   "metadata": {},
   "source": [
    "# 8. Add Summaries + Link Original Data"
   ]
  },
  {
   "cell_type": "code",
   "execution_count": null,
   "metadata": {},
   "outputs": [],
   "source": [
    "# First define your source data\n",
    "texts = text_chunks  # or however you're getting your text data\n",
    "text_summaries = summarize_chain.batch(texts, {\"max_concurrency\": 3})\n",
    "\n",
    "#  Add texts\n",
    "doc_ids = [str(uuid.uuid4()) for _ in texts]\n",
    "summary_texts = [\n",
    "    Document(page_content=summary, metadata={id_key: doc_ids[i]}) for i, summary in enumerate(text_summaries)\n",
    "]\n",
    "retriever.vectorstore.add_documents(summary_texts)\n",
    "retriever.docstore.mset(list(zip(doc_ids, texts)))\n",
    "\n",
    "# Add tables\n",
    "table_ids = [str(uuid.uuid4()) for _ in tables]\n",
    "summary_tables = [\n",
    "    Document(page_content=summary, metadata={id_key: table_ids[i]}) for i, summary in enumerate(table_summaries)\n",
    "]\n",
    "retriever.vectorstore.add_documents(summary_tables)\n",
    "retriever.docstore.mset(list(zip(table_ids, tables)))\n",
    "\n",
    "# Add image summaries\n",
    "img_ids = [str(uuid.uuid4()) for _ in images]\n",
    "summary_img = [\n",
    "    Document(page_content=summary, metadata={id_key: img_ids[i]}) for i, summary in enumerate(image_summaries)\n",
    "]\n",
    "retriever.vectorstore.add_documents(summary_img)\n",
    "retriever.docstore.mset(list(zip(img_ids, images)))"
   ]
  },
  {
   "cell_type": "code",
   "execution_count": null,
   "metadata": {},
   "outputs": [],
   "source": [
    "# Retrieve\n",
    "docs = retriever.invoke(\n",
    "    \"What this document is about?\"\n",
    ")\n",
    "for doc in docs:\n",
    "    print(str(doc) + \"\\n\\n\" + \"-\" * 80)"
   ]
  },
  {
   "cell_type": "markdown",
   "metadata": {},
   "source": [
    "# 9. RAG pipeline"
   ]
  },
  {
   "cell_type": "code",
   "execution_count": 17,
   "metadata": {},
   "outputs": [],
   "source": [
    "from langchain_core.runnables import RunnablePassthrough, RunnableLambda\n",
    "from langchain_core.messages import SystemMessage, HumanMessage\n",
    "from langchain_openai import ChatOpenAI\n",
    "from base64 import b64decode\n",
    "from base64 import b64decode\n",
    "import imghdr\n",
    "\n",
    "def parse_docs(docs):\n",
    "    \"\"\"\n",
    "    Return {\"images\": [(b64, mime), ...], \"texts\": [str, ...]}\n",
    "    If base64‑decoding succeeds, we treat it as an image and\n",
    "    guess its mime ('png' / 'jpeg'); otherwise it's text.\n",
    "    \"\"\"\n",
    "    images, texts = [], []\n",
    "    for d in docs:\n",
    "        try:\n",
    "            raw = b64decode(d)\n",
    "        except Exception:\n",
    "            texts.append(d)                # not base64 → plain text\n",
    "            continue\n",
    "\n",
    "        # Guess the format from the first bytes\n",
    "        kind = imghdr.what(None, h=raw)    # 'png', 'jpeg', etc.\n",
    "        if kind in (\"png\", \"jpeg\", \"gif\", \"webp\"):\n",
    "            images.append((d, kind))\n",
    "        else:                              # something weird → treat as text\n",
    "            texts.append(d)\n",
    "    return {\"images\": images, \"texts\": texts}\n",
    "\n",
    "\n",
    "def build_prompt(kwargs):\n",
    "    ctx = kwargs[\"context\"]\n",
    "    question = kwargs[\"question\"]\n",
    "\n",
    "    # 2a. Add textual context\n",
    "    context_text = \"\\n\".join(ctx[\"texts\"])\n",
    "\n",
    "    prompt_template = f\"\"\"\n",
    "Answer the question using **only** the following context (text, tables,\n",
    "and any images provided). If the images are irrelevant, ignore them.\n",
    "\n",
    "Context:\n",
    "{context_text}\n",
    "\n",
    "Question: {question}\n",
    "\"\"\"\n",
    "    prompt_content = [{\"type\": \"text\", \"text\": prompt_template}]\n",
    "\n",
    "    # 2b. Attach images with the correct mime\n",
    "    for b64_str, mime in ctx[\"images\"]:\n",
    "        prompt_content.append({\n",
    "            \"type\": \"image_url\",\n",
    "            \"image_url\": {\"url\": f\"data:image/{mime};base64,{b64_str}\"}\n",
    "        })\n",
    "\n",
    "    return ChatPromptTemplate.from_messages(\n",
    "        [HumanMessage(content=prompt_content)]\n",
    "    )\n",
    "\n",
    "chain = (\n",
    "    {\n",
    "        \"context\": retriever | RunnableLambda(parse_docs),\n",
    "        \"question\": RunnablePassthrough(),\n",
    "    }\n",
    "    | RunnableLambda(build_prompt)\n",
    "    | ChatOpenAI(model=\"gpt-4o\")\n",
    "    | StrOutputParser()\n",
    ")\n",
    "\n",
    "chain_with_sources = {\n",
    "    \"context\": retriever | RunnableLambda(parse_docs),\n",
    "    \"question\": RunnablePassthrough(),\n",
    "} | RunnablePassthrough().assign(\n",
    "    response=(\n",
    "        RunnableLambda(build_prompt)\n",
    "        | ChatOpenAI(model=\"gpt-4o\")\n",
    "        | StrOutputParser()\n",
    "    )\n",
    ")"
   ]
  },
  {
   "cell_type": "code",
   "execution_count": null,
   "metadata": {},
   "outputs": [],
   "source": [
    "response = chain.invoke(\"How many Allergies they do have?\")\n",
    "print(response)"
   ]
  },
  {
   "cell_type": "code",
   "execution_count": 19,
   "metadata": {},
   "outputs": [],
   "source": [
    "# Utility: show a base‑64 encoded image inline (works in Jupyter / VS Code)\n",
    "from IPython.display import Image, display\n",
    "import base64\n",
    "\n",
    "def display_base64_image(img):\n",
    "    \"\"\"\n",
    "    Accepts either a raw base64 string *or* a (b64, mime) tuple,\n",
    "    decodes it, and renders the image inline.\n",
    "    \"\"\"\n",
    "    if isinstance(img, tuple):         # the parser may return (b64, mime)\n",
    "        img_b64, _mime = img\n",
    "    else:\n",
    "        img_b64 = img\n",
    "\n",
    "    display(Image(data=base64.b64decode(img_b64)))"
   ]
  },
  {
   "cell_type": "code",
   "execution_count": null,
   "metadata": {},
   "outputs": [],
   "source": [
    "response = chain_with_sources.invoke(\n",
    "    \"What's there Surgical History?\"\n",
    ")\n",
    "\n",
    "print(\"Response:\", response['response'])\n",
    "\n",
    "print(\"\\n\\nContext:\")"
   ]
  }
 ],
 "metadata": {
  "kernelspec": {
   "display_name": "venv",
   "language": "python",
   "name": "python3"
  },
  "language_info": {
   "codemirror_mode": {
    "name": "ipython",
    "version": 3
   },
   "file_extension": ".py",
   "mimetype": "text/x-python",
   "name": "python",
   "nbconvert_exporter": "python",
   "pygments_lexer": "ipython3",
   "version": "3.10.0"
  }
 },
 "nbformat": 4,
 "nbformat_minor": 2
}
